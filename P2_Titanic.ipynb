{
 "cells": [
  {
   "cell_type": "markdown",
   "metadata": {},
   "source": [
    "# PROJETO 2 - TITANIC"
   ]
  },
  {
   "cell_type": "code",
   "execution_count": 9,
   "metadata": {
    "collapsed": false
   },
   "outputs": [
    {
     "data": {
      "text/html": [
       "<img src=\"http://guiadoscuriosos.uol.com.br/blog/wp-content/uploads/2012/04/titanic-olympic1.jpg\"/>"
      ],
      "text/plain": [
       "<IPython.core.display.Image object>"
      ]
     },
     "execution_count": 9,
     "metadata": {},
     "output_type": "execute_result"
    }
   ],
   "source": [
    "from IPython.display import Image\n",
    "Image(url=\"http://guiadoscuriosos.uol.com.br/blog/wp-content/uploads/2012/04/titanic-olympic1.jpg\")"
   ]
  },
  {
   "cell_type": "markdown",
   "metadata": {
    "collapsed": false
   },
   "source": [
    "# Introdução"
   ]
  },
  {
   "cell_type": "markdown",
   "metadata": {},
   "source": [
    "Este projeto consiste na análise de uma planilha de dados contendo informações demográficas e de passageiros, de um total de 891 das 2224 pessoas a bordo do Titanic, que afundou em um trágico acidente. Abaixo seguem as questões a serem levantadas por estas análises estatísticas.\n",
    "\n",
    "> ___Primeira Questão:___ **A taxa de sobrevivência da primeira classe foi superior com relação a segunda e a terceira classe?**\n",
    "\n",
    "> ___Segunda Questão:___ **Há correlação direta entre sobrevivência e gênero?**\n",
    "\n",
    "> ___Terceira Questão:___ **Mulheres e crianças Primeiro?**"
   ]
  },
  {
   "cell_type": "markdown",
   "metadata": {},
   "source": [
    "**Verificando os dados**\n",
    "\n",
    "Os dados contidos na tabela abaixo e a descrição de cada campo foram retirados do site Kaggle."
   ]
  },
  {
   "cell_type": "markdown",
   "metadata": {
    "collapsed": true
   },
   "source": [
    "**Variáveis**\n",
    "\n",
    "| Variável | Definição | Chave |\n",
    "| -------- | --------- | :-----: |\n",
    "| *Survival* | Sobreviviente | 0 = No / 1 = Yes |\n",
    "| *Pclass*   | Bilhetes por classe | 1 = 1st / 2 = 2nd / 3 = 3rd |\n",
    "| *Sex*      | Gênero | xxx |\n",
    "| *Age*      | Idade em anos | xxx |\n",
    "| *Sibsp*    | Irmãos/cônjuges a bordo do Titanic | xxx |\n",
    "| *Parch*    | Pais/filhos a bordo do Titanic | xxx |\n",
    "| *Ticket*   | Número do Ticket | xxx |\n",
    "| *Fare*     | Tarifa de passageiro | xxx |\n",
    "| *Cabin*    | Número de cabine | xxx |\n",
    "| *Embarked* | Porta de embarque | C = Cherbourg, Q = Queenstown, S = Southampton |"
   ]
  },
  {
   "cell_type": "markdown",
   "metadata": {},
   "source": [
    "**Notas das Variáveis**\n",
    "\n",
    "**Pclass:** Classe (nível socio-econômico) dos viajantes a bordo.\n",
    "1º = Primeira classe.\n",
    "2º = Segunda classe.\n",
    "3º = Terceira classe.\n",
    "\n",
    "**Age:** A idade é fracionária se for menor que 1 inteiro. Se a idade for estimada, está na forma de xx.5\n",
    "\n",
    "**Sibsp:** Conjunto de dados que define as relações familiares da seguinte forma:\n",
    "*Sibling* = irmão, irmã, meio-irmão e meia-irmã.\n",
    "*Spouse* = marido e esposa (amantes e fiancés foram ignorados).\n",
    "\n",
    "**Parch:** Conjunto de dados que define as relações familiares da seguinte forma:\n",
    "*Parent* = mãe e pai.\n",
    "*Child* = filha, filho, enteada e enteado.\n",
    "\n",
    "**Obs.:** Algumas crianças viajaram apenas com uma babá, portanto parch = 0 para eles. Também, alguns viajaram com amigos muito próximos ou vizinhos, no entanto, as definições não suportam tais relações. Outros familiares excluídos deste estudo incluem primos, sobrinhos, sobrinhas, tias, tios e sogros. "
   ]
  },
  {
   "cell_type": "markdown",
   "metadata": {},
   "source": [
    "# Dados\n"
   ]
  },
  {
   "cell_type": "markdown",
   "metadata": {},
   "source": [
    "O conjunto de dados está contido dentro da seguinte planilha; __Titanic_data.csv__ e para usá-lo de forma eficiente, o converti em um Dataframe do Pandas. Foi impresso as primeiras linhas do Dataframe para visualização das colunas e tipos de variáveis."
   ]
  },
  {
   "cell_type": "code",
   "execution_count": 2,
   "metadata": {
    "collapsed": false,
    "scrolled": true
   },
   "outputs": [
    {
     "data": {
      "text/html": [
       "<div>\n",
       "<table border=\"1\" class=\"dataframe\">\n",
       "  <thead>\n",
       "    <tr style=\"text-align: right;\">\n",
       "      <th></th>\n",
       "      <th>PassengerId</th>\n",
       "      <th>Survived</th>\n",
       "      <th>Pclass</th>\n",
       "      <th>Name</th>\n",
       "      <th>Sex</th>\n",
       "      <th>Age</th>\n",
       "      <th>SibSp</th>\n",
       "      <th>Parch</th>\n",
       "      <th>Ticket</th>\n",
       "      <th>Fare</th>\n",
       "      <th>Cabin</th>\n",
       "      <th>Embarked</th>\n",
       "    </tr>\n",
       "  </thead>\n",
       "  <tbody>\n",
       "    <tr>\n",
       "      <th>0</th>\n",
       "      <td>1</td>\n",
       "      <td>0</td>\n",
       "      <td>3</td>\n",
       "      <td>Braund, Mr. Owen Harris</td>\n",
       "      <td>male</td>\n",
       "      <td>22.0</td>\n",
       "      <td>1</td>\n",
       "      <td>0</td>\n",
       "      <td>A/5 21171</td>\n",
       "      <td>7.2500</td>\n",
       "      <td>NaN</td>\n",
       "      <td>S</td>\n",
       "    </tr>\n",
       "    <tr>\n",
       "      <th>1</th>\n",
       "      <td>2</td>\n",
       "      <td>1</td>\n",
       "      <td>1</td>\n",
       "      <td>Cumings, Mrs. John Bradley (Florence Briggs Th...</td>\n",
       "      <td>female</td>\n",
       "      <td>38.0</td>\n",
       "      <td>1</td>\n",
       "      <td>0</td>\n",
       "      <td>PC 17599</td>\n",
       "      <td>71.2833</td>\n",
       "      <td>C85</td>\n",
       "      <td>C</td>\n",
       "    </tr>\n",
       "    <tr>\n",
       "      <th>2</th>\n",
       "      <td>3</td>\n",
       "      <td>1</td>\n",
       "      <td>3</td>\n",
       "      <td>Heikkinen, Miss. Laina</td>\n",
       "      <td>female</td>\n",
       "      <td>26.0</td>\n",
       "      <td>0</td>\n",
       "      <td>0</td>\n",
       "      <td>STON/O2. 3101282</td>\n",
       "      <td>7.9250</td>\n",
       "      <td>NaN</td>\n",
       "      <td>S</td>\n",
       "    </tr>\n",
       "    <tr>\n",
       "      <th>3</th>\n",
       "      <td>4</td>\n",
       "      <td>1</td>\n",
       "      <td>1</td>\n",
       "      <td>Futrelle, Mrs. Jacques Heath (Lily May Peel)</td>\n",
       "      <td>female</td>\n",
       "      <td>35.0</td>\n",
       "      <td>1</td>\n",
       "      <td>0</td>\n",
       "      <td>113803</td>\n",
       "      <td>53.1000</td>\n",
       "      <td>C123</td>\n",
       "      <td>S</td>\n",
       "    </tr>\n",
       "    <tr>\n",
       "      <th>4</th>\n",
       "      <td>5</td>\n",
       "      <td>0</td>\n",
       "      <td>3</td>\n",
       "      <td>Allen, Mr. William Henry</td>\n",
       "      <td>male</td>\n",
       "      <td>35.0</td>\n",
       "      <td>0</td>\n",
       "      <td>0</td>\n",
       "      <td>373450</td>\n",
       "      <td>8.0500</td>\n",
       "      <td>NaN</td>\n",
       "      <td>S</td>\n",
       "    </tr>\n",
       "  </tbody>\n",
       "</table>\n",
       "</div>"
      ],
      "text/plain": [
       "   PassengerId  Survived  Pclass  \\\n",
       "0            1         0       3   \n",
       "1            2         1       1   \n",
       "2            3         1       3   \n",
       "3            4         1       1   \n",
       "4            5         0       3   \n",
       "\n",
       "                                                Name     Sex   Age  SibSp  \\\n",
       "0                            Braund, Mr. Owen Harris    male  22.0      1   \n",
       "1  Cumings, Mrs. John Bradley (Florence Briggs Th...  female  38.0      1   \n",
       "2                             Heikkinen, Miss. Laina  female  26.0      0   \n",
       "3       Futrelle, Mrs. Jacques Heath (Lily May Peel)  female  35.0      1   \n",
       "4                           Allen, Mr. William Henry    male  35.0      0   \n",
       "\n",
       "   Parch            Ticket     Fare Cabin Embarked  \n",
       "0      0         A/5 21171   7.2500   NaN        S  \n",
       "1      0          PC 17599  71.2833   C85        C  \n",
       "2      0  STON/O2. 3101282   7.9250   NaN        S  \n",
       "3      0            113803  53.1000  C123        S  \n",
       "4      0            373450   8.0500   NaN        S  "
      ]
     },
     "execution_count": 2,
     "metadata": {},
     "output_type": "execute_result"
    }
   ],
   "source": [
    "import pandas as pd\n",
    "\n",
    "# Primeiros registros da planilha\n",
    "titanic_data = pd.read_csv(\"titanic_data.csv\")\n",
    "titanic_data.head()"
   ]
  },
  {
   "cell_type": "code",
   "execution_count": 3,
   "metadata": {
    "collapsed": false
   },
   "outputs": [
    {
     "data": {
      "text/html": [
       "<div>\n",
       "<table border=\"1\" class=\"dataframe\">\n",
       "  <thead>\n",
       "    <tr style=\"text-align: right;\">\n",
       "      <th></th>\n",
       "      <th>PassengerId</th>\n",
       "      <th>Survived</th>\n",
       "      <th>Pclass</th>\n",
       "      <th>Name</th>\n",
       "      <th>Sex</th>\n",
       "      <th>Age</th>\n",
       "      <th>SibSp</th>\n",
       "      <th>Parch</th>\n",
       "      <th>Ticket</th>\n",
       "      <th>Fare</th>\n",
       "      <th>Cabin</th>\n",
       "      <th>Embarked</th>\n",
       "    </tr>\n",
       "  </thead>\n",
       "  <tbody>\n",
       "    <tr>\n",
       "      <th>886</th>\n",
       "      <td>887</td>\n",
       "      <td>0</td>\n",
       "      <td>2</td>\n",
       "      <td>Montvila, Rev. Juozas</td>\n",
       "      <td>male</td>\n",
       "      <td>27.0</td>\n",
       "      <td>0</td>\n",
       "      <td>0</td>\n",
       "      <td>211536</td>\n",
       "      <td>13.00</td>\n",
       "      <td>NaN</td>\n",
       "      <td>S</td>\n",
       "    </tr>\n",
       "    <tr>\n",
       "      <th>887</th>\n",
       "      <td>888</td>\n",
       "      <td>1</td>\n",
       "      <td>1</td>\n",
       "      <td>Graham, Miss. Margaret Edith</td>\n",
       "      <td>female</td>\n",
       "      <td>19.0</td>\n",
       "      <td>0</td>\n",
       "      <td>0</td>\n",
       "      <td>112053</td>\n",
       "      <td>30.00</td>\n",
       "      <td>B42</td>\n",
       "      <td>S</td>\n",
       "    </tr>\n",
       "    <tr>\n",
       "      <th>888</th>\n",
       "      <td>889</td>\n",
       "      <td>0</td>\n",
       "      <td>3</td>\n",
       "      <td>Johnston, Miss. Catherine Helen \"Carrie\"</td>\n",
       "      <td>female</td>\n",
       "      <td>NaN</td>\n",
       "      <td>1</td>\n",
       "      <td>2</td>\n",
       "      <td>W./C. 6607</td>\n",
       "      <td>23.45</td>\n",
       "      <td>NaN</td>\n",
       "      <td>S</td>\n",
       "    </tr>\n",
       "    <tr>\n",
       "      <th>889</th>\n",
       "      <td>890</td>\n",
       "      <td>1</td>\n",
       "      <td>1</td>\n",
       "      <td>Behr, Mr. Karl Howell</td>\n",
       "      <td>male</td>\n",
       "      <td>26.0</td>\n",
       "      <td>0</td>\n",
       "      <td>0</td>\n",
       "      <td>111369</td>\n",
       "      <td>30.00</td>\n",
       "      <td>C148</td>\n",
       "      <td>C</td>\n",
       "    </tr>\n",
       "    <tr>\n",
       "      <th>890</th>\n",
       "      <td>891</td>\n",
       "      <td>0</td>\n",
       "      <td>3</td>\n",
       "      <td>Dooley, Mr. Patrick</td>\n",
       "      <td>male</td>\n",
       "      <td>32.0</td>\n",
       "      <td>0</td>\n",
       "      <td>0</td>\n",
       "      <td>370376</td>\n",
       "      <td>7.75</td>\n",
       "      <td>NaN</td>\n",
       "      <td>Q</td>\n",
       "    </tr>\n",
       "  </tbody>\n",
       "</table>\n",
       "</div>"
      ],
      "text/plain": [
       "     PassengerId  Survived  Pclass                                      Name  \\\n",
       "886          887         0       2                     Montvila, Rev. Juozas   \n",
       "887          888         1       1              Graham, Miss. Margaret Edith   \n",
       "888          889         0       3  Johnston, Miss. Catherine Helen \"Carrie\"   \n",
       "889          890         1       1                     Behr, Mr. Karl Howell   \n",
       "890          891         0       3                       Dooley, Mr. Patrick   \n",
       "\n",
       "        Sex   Age  SibSp  Parch      Ticket   Fare Cabin Embarked  \n",
       "886    male  27.0      0      0      211536  13.00   NaN        S  \n",
       "887  female  19.0      0      0      112053  30.00   B42        S  \n",
       "888  female   NaN      1      2  W./C. 6607  23.45   NaN        S  \n",
       "889    male  26.0      0      0      111369  30.00  C148        C  \n",
       "890    male  32.0      0      0      370376   7.75   NaN        Q  "
      ]
     },
     "execution_count": 3,
     "metadata": {},
     "output_type": "execute_result"
    }
   ],
   "source": [
    "# Últimos registros da planilha\n",
    "titanic_data.tail()"
   ]
  },
  {
   "cell_type": "markdown",
   "metadata": {
    "collapsed": true
   },
   "source": [
    "Foram notados alguns valores NaN específicamente na coluna Age e Cabin e isso me faz pensar que talvez outras colunas também possam ter valores faltantes ocultos, o que pode (ou não) comprometer a análise dos dados."
   ]
  },
  {
   "cell_type": "markdown",
   "metadata": {},
   "source": [
    "As seguintes colunas foram retiradas do conjunto de dados; PassengerId, Name, Ticket, Fare, Cabin e Embarked. Por não serem relevantes nas análises a seguir, estes dados não serão considerados na investigações propostas neste trabalho."
   ]
  },
  {
   "cell_type": "code",
   "execution_count": 4,
   "metadata": {
    "collapsed": false
   },
   "outputs": [
    {
     "data": {
      "text/html": [
       "<div>\n",
       "<table border=\"1\" class=\"dataframe\">\n",
       "  <thead>\n",
       "    <tr style=\"text-align: right;\">\n",
       "      <th></th>\n",
       "      <th>PassengerId</th>\n",
       "      <th>Survived</th>\n",
       "      <th>Pclass</th>\n",
       "      <th>Sex</th>\n",
       "      <th>Age</th>\n",
       "      <th>SibSp</th>\n",
       "      <th>Parch</th>\n",
       "    </tr>\n",
       "  </thead>\n",
       "  <tbody>\n",
       "    <tr>\n",
       "      <th>0</th>\n",
       "      <td>1</td>\n",
       "      <td>0</td>\n",
       "      <td>3</td>\n",
       "      <td>male</td>\n",
       "      <td>22.0</td>\n",
       "      <td>1</td>\n",
       "      <td>0</td>\n",
       "    </tr>\n",
       "    <tr>\n",
       "      <th>1</th>\n",
       "      <td>2</td>\n",
       "      <td>1</td>\n",
       "      <td>1</td>\n",
       "      <td>female</td>\n",
       "      <td>38.0</td>\n",
       "      <td>1</td>\n",
       "      <td>0</td>\n",
       "    </tr>\n",
       "    <tr>\n",
       "      <th>2</th>\n",
       "      <td>3</td>\n",
       "      <td>1</td>\n",
       "      <td>3</td>\n",
       "      <td>female</td>\n",
       "      <td>26.0</td>\n",
       "      <td>0</td>\n",
       "      <td>0</td>\n",
       "    </tr>\n",
       "    <tr>\n",
       "      <th>3</th>\n",
       "      <td>4</td>\n",
       "      <td>1</td>\n",
       "      <td>1</td>\n",
       "      <td>female</td>\n",
       "      <td>35.0</td>\n",
       "      <td>1</td>\n",
       "      <td>0</td>\n",
       "    </tr>\n",
       "    <tr>\n",
       "      <th>4</th>\n",
       "      <td>5</td>\n",
       "      <td>0</td>\n",
       "      <td>3</td>\n",
       "      <td>male</td>\n",
       "      <td>35.0</td>\n",
       "      <td>0</td>\n",
       "      <td>0</td>\n",
       "    </tr>\n",
       "  </tbody>\n",
       "</table>\n",
       "</div>"
      ],
      "text/plain": [
       "   PassengerId  Survived  Pclass     Sex   Age  SibSp  Parch\n",
       "0            1         0       3    male  22.0      1      0\n",
       "1            2         1       1  female  38.0      1      0\n",
       "2            3         1       3  female  26.0      0      0\n",
       "3            4         1       1  female  35.0      1      0\n",
       "4            5         0       3    male  35.0      0      0"
      ]
     },
     "execution_count": 4,
     "metadata": {},
     "output_type": "execute_result"
    }
   ],
   "source": [
    "# Retirar colunas não necessárias para análises estatísticas\n",
    "titanic_data_cleaned = titanic_data.drop(['Name','Ticket','Cabin','Fare','Embarked'], axis=1)\n",
    "titanic_data_cleaned.head()"
   ]
  },
  {
   "cell_type": "markdown",
   "metadata": {
    "collapsed": true
   },
   "source": [
    "# Análises Exploratórias"
   ]
  },
  {
   "cell_type": "markdown",
   "metadata": {},
   "source": [
    "Logo abaixo foi gerado uma tabela com alguns dados descritivos como soma total por coluna, média, desvio padrão, valor mínimo e máximo por coluna e os quartis de 25, 50 e 75 porcento."
   ]
  },
  {
   "cell_type": "code",
   "execution_count": 5,
   "metadata": {
    "collapsed": false
   },
   "outputs": [
    {
     "data": {
      "text/html": [
       "<div>\n",
       "<table border=\"1\" class=\"dataframe\">\n",
       "  <thead>\n",
       "    <tr style=\"text-align: right;\">\n",
       "      <th></th>\n",
       "      <th>PassengerId</th>\n",
       "      <th>Survived</th>\n",
       "      <th>Pclass</th>\n",
       "      <th>Age</th>\n",
       "      <th>SibSp</th>\n",
       "      <th>Parch</th>\n",
       "    </tr>\n",
       "  </thead>\n",
       "  <tbody>\n",
       "    <tr>\n",
       "      <th>count</th>\n",
       "      <td>714.000000</td>\n",
       "      <td>714.000000</td>\n",
       "      <td>714.000000</td>\n",
       "      <td>714.000000</td>\n",
       "      <td>714.000000</td>\n",
       "      <td>714.000000</td>\n",
       "    </tr>\n",
       "    <tr>\n",
       "      <th>mean</th>\n",
       "      <td>448.582633</td>\n",
       "      <td>0.406162</td>\n",
       "      <td>2.236695</td>\n",
       "      <td>29.699118</td>\n",
       "      <td>0.512605</td>\n",
       "      <td>0.431373</td>\n",
       "    </tr>\n",
       "    <tr>\n",
       "      <th>std</th>\n",
       "      <td>259.119524</td>\n",
       "      <td>0.491460</td>\n",
       "      <td>0.838250</td>\n",
       "      <td>14.526497</td>\n",
       "      <td>0.929783</td>\n",
       "      <td>0.853289</td>\n",
       "    </tr>\n",
       "    <tr>\n",
       "      <th>min</th>\n",
       "      <td>1.000000</td>\n",
       "      <td>0.000000</td>\n",
       "      <td>1.000000</td>\n",
       "      <td>0.420000</td>\n",
       "      <td>0.000000</td>\n",
       "      <td>0.000000</td>\n",
       "    </tr>\n",
       "    <tr>\n",
       "      <th>25%</th>\n",
       "      <td>222.250000</td>\n",
       "      <td>0.000000</td>\n",
       "      <td>1.000000</td>\n",
       "      <td>20.125000</td>\n",
       "      <td>0.000000</td>\n",
       "      <td>0.000000</td>\n",
       "    </tr>\n",
       "    <tr>\n",
       "      <th>50%</th>\n",
       "      <td>445.000000</td>\n",
       "      <td>0.000000</td>\n",
       "      <td>2.000000</td>\n",
       "      <td>28.000000</td>\n",
       "      <td>0.000000</td>\n",
       "      <td>0.000000</td>\n",
       "    </tr>\n",
       "    <tr>\n",
       "      <th>75%</th>\n",
       "      <td>677.750000</td>\n",
       "      <td>1.000000</td>\n",
       "      <td>3.000000</td>\n",
       "      <td>38.000000</td>\n",
       "      <td>1.000000</td>\n",
       "      <td>1.000000</td>\n",
       "    </tr>\n",
       "    <tr>\n",
       "      <th>max</th>\n",
       "      <td>891.000000</td>\n",
       "      <td>1.000000</td>\n",
       "      <td>3.000000</td>\n",
       "      <td>80.000000</td>\n",
       "      <td>5.000000</td>\n",
       "      <td>6.000000</td>\n",
       "    </tr>\n",
       "  </tbody>\n",
       "</table>\n",
       "</div>"
      ],
      "text/plain": [
       "       PassengerId    Survived      Pclass         Age       SibSp       Parch\n",
       "count   714.000000  714.000000  714.000000  714.000000  714.000000  714.000000\n",
       "mean    448.582633    0.406162    2.236695   29.699118    0.512605    0.431373\n",
       "std     259.119524    0.491460    0.838250   14.526497    0.929783    0.853289\n",
       "min       1.000000    0.000000    1.000000    0.420000    0.000000    0.000000\n",
       "25%     222.250000    0.000000    1.000000   20.125000    0.000000    0.000000\n",
       "50%     445.000000    0.000000    2.000000   28.000000    0.000000    0.000000\n",
       "75%     677.750000    1.000000    3.000000   38.000000    1.000000    1.000000\n",
       "max     891.000000    1.000000    3.000000   80.000000    5.000000    6.000000"
      ]
     },
     "execution_count": 5,
     "metadata": {},
     "output_type": "execute_result"
    }
   ],
   "source": [
    "# Verificar estatística descritiva - média, desvio padrão e outros\n",
    "## filtrei os nullos para que não atrapalhassem\n",
    "titanic_data_cleaned[~titanic_data_cleaned.Age.isnull()].describe()"
   ]
  },
  {
   "cell_type": "markdown",
   "metadata": {},
   "source": [
    "A seguir verifiquei se haviam linhas inválidas nas colunas da tabela reduzida, pois como foi visto anteriormente, valores NaN poderiam estar ocultos e se faz necessário identificá-los."
   ]
  },
  {
   "cell_type": "markdown",
   "metadata": {
    "collapsed": true
   },
   "source": [
    "Para contar as linhas inválidas, utilizei o método isnull() coluna a coluna, que retornou uma série booleana com valores _True_ onde haviam valores nulos e _False_ onde não haviam. E a partir disso, para somar os valores inválidos a função soma foi adicionada.\n",
    "\n",
    "**Coluna Sobreviventes**"
   ]
  },
  {
   "cell_type": "code",
   "execution_count": 5,
   "metadata": {
    "collapsed": false
   },
   "outputs": [
    {
     "name": "stdout",
     "output_type": "stream",
     "text": [
      "Survived - contagem nula:  0\n"
     ]
    }
   ],
   "source": [
    "# Coluna Survived\n",
    "titanic_data_cleaned.astype(bool)\n",
    "print \"Survived - contagem nula: \", titanic_data_cleaned[\"Survived\"].isnull().sum()"
   ]
  },
  {
   "cell_type": "markdown",
   "metadata": {},
   "source": [
    "**Coluna Classe**"
   ]
  },
  {
   "cell_type": "code",
   "execution_count": 34,
   "metadata": {
    "collapsed": false
   },
   "outputs": [
    {
     "name": "stdout",
     "output_type": "stream",
     "text": [
      "Pclass - contagem nula:  0\n"
     ]
    }
   ],
   "source": [
    "# Coluna Pclass\n",
    "titanic_data_cleaned.astype(bool)\n",
    "print \"Pclass - contagem nula: \", titanic_data_cleaned[\"Pclass\"].isnull().sum()"
   ]
  },
  {
   "cell_type": "markdown",
   "metadata": {
    "collapsed": true
   },
   "source": [
    "**Coluna Gênero**"
   ]
  },
  {
   "cell_type": "code",
   "execution_count": 35,
   "metadata": {
    "collapsed": false
   },
   "outputs": [
    {
     "name": "stdout",
     "output_type": "stream",
     "text": [
      "Sex - contagem nula:  0\n"
     ]
    }
   ],
   "source": [
    "# Coluna Sex (Gênero)\n",
    "titanic_data_cleaned.astype(bool)\n",
    "print \"Sex - contagem nula: \", titanic_data_cleaned[\"Sex\"].isnull().sum()"
   ]
  },
  {
   "cell_type": "markdown",
   "metadata": {
    "collapsed": true
   },
   "source": [
    "**Coluna Idade**"
   ]
  },
  {
   "cell_type": "code",
   "execution_count": 36,
   "metadata": {
    "collapsed": false
   },
   "outputs": [
    {
     "name": "stdout",
     "output_type": "stream",
     "text": [
      "Age - contagem nula:  177\n"
     ]
    }
   ],
   "source": [
    "# Coluna Age\n",
    "titanic_data_cleaned.astype(bool)\n",
    "print \"Age - contagem nula: \", titanic_data_cleaned[\"Age\"].isnull().sum()"
   ]
  },
  {
   "cell_type": "markdown",
   "metadata": {},
   "source": [
    "A contagem nula acima me revelou o número de 177 linhas inválidas, o que representa um número significativo.\n",
    "Em seguida subtraí a contagem nula do total de passageiros, sendo assim, ficando mais claro o total de números conhecidos presentes na coluna das idades."
   ]
  },
  {
   "cell_type": "code",
   "execution_count": 37,
   "metadata": {
    "collapsed": false
   },
   "outputs": [
    {
     "name": "stdout",
     "output_type": "stream",
     "text": [
      "Total de passageiros:  891\n",
      "Total conhecidos:  714\n"
     ]
    }
   ],
   "source": [
    "known_age_passengers = titanic_data_cleaned.dropna(subset = [\"Age\"])\n",
    "print \"Total de passageiros: \", len(titanic_data_cleaned)\n",
    "print \"Total conhecidos: \", len(known_age_passengers)"
   ]
  },
  {
   "cell_type": "markdown",
   "metadata": {},
   "source": [
    "**Coluna Irmãos / Cônjuges**"
   ]
  },
  {
   "cell_type": "code",
   "execution_count": 38,
   "metadata": {
    "collapsed": false
   },
   "outputs": [
    {
     "name": "stdout",
     "output_type": "stream",
     "text": [
      "SibSp - contagem nula:  0\n"
     ]
    }
   ],
   "source": [
    "# Coluna Sibsp\n",
    "titanic_data_cleaned.astype(bool)\n",
    "print \"SibSp - contagem nula: \", titanic_data_cleaned[\"SibSp\"].isnull().sum()"
   ]
  },
  {
   "cell_type": "markdown",
   "metadata": {
    "collapsed": true
   },
   "source": [
    "**Coluna Pais / Filhos**"
   ]
  },
  {
   "cell_type": "code",
   "execution_count": 39,
   "metadata": {
    "collapsed": false
   },
   "outputs": [
    {
     "name": "stdout",
     "output_type": "stream",
     "text": [
      "Parch - contagem nula:  0\n"
     ]
    }
   ],
   "source": [
    "# Coluna Parch\n",
    "titanic_data_cleaned.astype(bool)\n",
    "print \"Parch - contagem nula: \", titanic_data_cleaned[\"Parch\"].isnull().sum()"
   ]
  },
  {
   "cell_type": "markdown",
   "metadata": {},
   "source": [
    "**Percentual de cada coluna**"
   ]
  },
  {
   "cell_type": "code",
   "execution_count": 40,
   "metadata": {
    "collapsed": false
   },
   "outputs": [
    {
     "data": {
      "text/plain": [
       "PassengerId    0.000000\n",
       "Survived       0.000000\n",
       "Pclass         0.000000\n",
       "Sex            0.000000\n",
       "Age            0.198653\n",
       "SibSp          0.000000\n",
       "Parch          0.000000\n",
       "dtype: float64"
      ]
     },
     "execution_count": 40,
     "metadata": {},
     "output_type": "execute_result"
    }
   ],
   "source": [
    "# Percentual de valores nulos do total de registros\n",
    "titanic_data_cleaned.isnull().sum()/len(titanic_data_cleaned)"
   ]
  },
  {
   "cell_type": "markdown",
   "metadata": {},
   "source": [
    "A análise das contagens nulas revelou para a coluna Age o percentual de 19%, embora pareça significativo, não apresentará resultados muito discrepantes nas análises seguintes pois as colunas serão trabalhadas em conjunto e confrontadas entre si. Específicamente a coluna das idades não comprometerá as demais."
   ]
  },
  {
   "cell_type": "markdown",
   "metadata": {
    "collapsed": true
   },
   "source": [
    "**Distribuição de passageiros**"
   ]
  },
  {
   "cell_type": "markdown",
   "metadata": {},
   "source": [
    "Separar os sexos nos permite uma visualização clara dos fatos e o Dataframe abaixo mostra essa divisão."
   ]
  },
  {
   "cell_type": "code",
   "execution_count": 6,
   "metadata": {
    "collapsed": false
   },
   "outputs": [
    {
     "name": "stdout",
     "output_type": "stream",
     "text": [
      "Homens: \n",
      "577\n",
      "\n",
      "Mulheres: \n",
      "314\n"
     ]
    },
    {
     "data": {
      "image/png": "[encoded data removed]",
      "text/plain": [
       "<matplotlib.figure.Figure at 0x8726170>"
      ]
     },
     "metadata": {},
     "output_type": "display_data"
    }
   ],
   "source": [
    "import matplotlib.pyplot as plt\n",
    "\n",
    "# Puxar dados de passageiros\n",
    "menData = titanic_data_cleaned[titanic_data_cleaned.Sex == \"male\"]\n",
    "womenData = titanic_data_cleaned[titanic_data_cleaned.Sex == \"female\"]\n",
    "\n",
    "# Contagem para Homens e Mulheres\n",
    "print(\"Homens: \")\n",
    "print(menData.count()[\"Sex\"])\n",
    "\n",
    "print(\"\")\n",
    "\n",
    "print(\"Mulheres: \")\n",
    "print(womenData.count()[\"Sex\"])\n",
    "\n",
    "import seaborn as sns\n",
    "sns.set_style(\"whitegrid\")\n",
    "\n",
    "# Grafico da população de Homens e Mulheres a bordo do Titanic\n",
    "g = sns.factorplot(x='Sex', data=titanic_data_cleaned, kind='count')\n",
    "g.despine(left=True)\n",
    "g.set_xlabels(u\"Número de Indivíduos\")\n",
    "plt.title(u'Contagem de Passageiros')\n",
    "plt.show()\n"
   ]
  },
  {
   "cell_type": "markdown",
   "metadata": {},
   "source": [
    "Observando a população de cada gênero, vemos claramente que a maioria é de homens a bordo. "
   ]
  },
  {
   "cell_type": "markdown",
   "metadata": {
    "collapsed": true
   },
   "source": [
    "Logo mais abaixo, uma breve descrição do passageiro mais novo, o mais velho e a média de idade dos tripulantes."
   ]
  },
  {
   "cell_type": "code",
   "execution_count": 42,
   "metadata": {
    "collapsed": false
   },
   "outputs": [
    {
     "name": "stdout",
     "output_type": "stream",
     "text": [
      "Passageiro mais novo: \n",
      "0.42\n",
      "\n",
      "Passageiro mais velho: \n",
      "80.0\n",
      "\n",
      "Média de idade dos passageiros: \n",
      "29.6991176471\n"
     ]
    }
   ],
   "source": [
    "# Passageiro mais novo\n",
    "print(\"Passageiro mais novo: \")\n",
    "\n",
    "Passageiro_mais_novo = titanic_data_cleaned['Age'].min()\n",
    "print(Passageiro_mais_novo)\n",
    "\n",
    "print(\"\")\n",
    "\n",
    "# Passageiro mais velho\n",
    "print(\"Passageiro mais velho: \")\n",
    "Passageiro_mais_velho = titanic_data_cleaned['Age'].max()\n",
    "print(Passageiro_mais_velho)\n",
    "\n",
    "print(\"\")\n",
    "# Idade média dos passageiros:\n",
    "print(\"Média de idade dos passageiros: \")\n",
    "Idade_media_dos_passageiros = titanic_data_cleaned['Age'].mean()\n",
    "print(Idade_media_dos_passageiros)"
   ]
  },
  {
   "cell_type": "markdown",
   "metadata": {
    "collapsed": true
   },
   "source": [
    "O passageiro mais velho possuía 80 anos e a idade média dos passageiros era de 29 anos. A descrição dos dados indica que a idade pode ser fracionária, ou seja, o passageiro mais novo registrado possuía menos de 1 ano e idade."
   ]
  },
  {
   "cell_type": "code",
   "execution_count": 45,
   "metadata": {
    "collapsed": false
   },
   "outputs": [
    {
     "name": "stdout",
     "output_type": "stream",
     "text": [
      "Números exato de homens e mulheres com idades faltantes são 53 e 124 respectivamente\n",
      "Média de idade de sobreviventes 28.0 \n",
      "Média de idade de mortos 31.0\n"
     ]
    }
   ],
   "source": [
    "import numpy as np\n",
    "\n",
    "# Revisão de alguns dados de idades faltantes\n",
    "idade_falatante = pd.isnull(titanic_data_cleaned['Age'])\n",
    "\n",
    "# Determinar o número exato de homens e mulheres com valores faltantes\n",
    "mulher_idade_falt = titanic_data_cleaned[idade_falatante]['Sex'] == 'female'\n",
    "homem_idade_falt = titanic_data_cleaned[idade_falatante]['Sex'] == 'male'\n",
    "dados_idade = titanic_data_cleaned.dropna()\n",
    "print 'Números exato de homens e mulheres com idades faltantes são {} e {} respectivamente'.format(mulher_idade_falt.sum(),homem_idade_falt.sum())\n",
    "\n",
    "# Determinar a média de sobreviventes e não sobreviventes\n",
    "media_idade_sobrev = dados_idade[dados_idade['Survived'] == True]['Age'].mean()\n",
    "media_idade_mortos = dados_idade[dados_idade['Survived'] == False]['Age'].mean()\n",
    "\n",
    "print 'Média de idade de sobreviventes {} \\n\\\n",
    "Média de idade de mortos {}' \\\n",
    ".format(np.round(media_idade_sobrev), np.round(media_idade_mortos))"
   ]
  },
  {
   "cell_type": "markdown",
   "metadata": {},
   "source": [
    "Anteriormente foi levantado o número total dos valores nulos na coluna das idades, agora os valores exatos de nulos para homens e mulheres. Assim como a média das idades de sobreviventes e mortos. "
   ]
  },
  {
   "cell_type": "markdown",
   "metadata": {},
   "source": [
    "**Distribuição etária total de pessoas a bordo**"
   ]
  },
  {
   "cell_type": "code",
   "execution_count": 47,
   "metadata": {
    "collapsed": false
   },
   "outputs": [
    {
     "data": {
      "image/png": "[encoded data removed]",
      "text/plain": [
       "<matplotlib.figure.Figure at 0xc31cf30>"
      ]
     },
     "metadata": {},
     "output_type": "display_data"
    }
   ],
   "source": [
    "# Distribuição etária total\n",
    "titanic_data_cleaned['Age'].hist(bins=80)\n",
    "plt.title(u\"Distribuição etária\")\n",
    "plt.xlabel('Age')\n",
    "plt.show()"
   ]
  },
  {
   "cell_type": "markdown",
   "metadata": {
    "collapsed": true
   },
   "source": [
    "De acordo com os dados plotados no histograma, vemos que a maioria dos tripulantes, sem distinguir por genero, se encontram entre a faixa de 20 e 40 anos de idade.\n",
    "\n",
    "A seguir foram levantados os dados para responder a primeira questão proposta para este trabalho."
   ]
  },
  {
   "cell_type": "markdown",
   "metadata": {},
   "source": [
    "# 1ª questão: A taxa de sobrevivência da primeira classe foi superior com relação a segunda e a terceira classe?"
   ]
  },
  {
   "cell_type": "markdown",
   "metadata": {},
   "source": [
    "Abaixo, comparei a distribuição dos passageiros por sexo em cada classe antes da tragédia e como ficou a distribuição dos passageiros após a tragédia, e pela visualização gráfica responder a primeira questão proposta para o trabalho."
   ]
  },
  {
   "cell_type": "code",
   "execution_count": 7,
   "metadata": {
    "collapsed": false
   },
   "outputs": [
    {
     "data": {
      "image/png": "[encoded data removed]",
      "text/plain": [
       "<matplotlib.figure.Figure at 0x2d58e10>"
      ]
     },
     "metadata": {},
     "output_type": "display_data"
    }
   ],
   "source": [
    "# Gráfico de sobreviventes e mortos por classe antes e depois da tragédia\n",
    "titanic_data_cleaned['Survived'].replace({0:'No', 1:'Yes'}, inplace=True) #Obs.: replace - substitui tb para os próximos graf.\n",
    "sns.countplot(x='Survived', data=titanic_data_cleaned, hue='Pclass')\n",
    "plt.title(u'Número de Sobreviventes/Mortos por Classe')\n",
    "plt.legend(title='Class')\n",
    "plt.show()"
   ]
  },
  {
   "cell_type": "code",
   "execution_count": 11,
   "metadata": {
    "collapsed": false
   },
   "outputs": [
    {
     "data": {
      "image/png": "[encoded data removed]",
      "text/plain": [
       "<matplotlib.figure.Figure at 0xbd552f0>"
      ]
     },
     "metadata": {},
     "output_type": "display_data"
    }
   ],
   "source": [
    "fig = plt.figure(figsize=(18,6))\n",
    "female_color = \"#FA2379\"\n",
    "alpha_bar_chart = 0.55\n",
    "\n",
    "# Homem de classe baixa\n",
    "fig.add_subplot(3,4,9)\n",
    "titanic_data_cleaned.Survived[(titanic_data_cleaned.Sex == \"male\") & \n",
    "                              (titanic_data_cleaned.Pclass == 3)].value_counts().plot(kind='bar', color=\"lightblue\", alpha=alpha_bar_chart)\n",
    "plt.title(u\"Homem de classe baixa sobreviveu?\")\n",
    "\n",
    "# Homem de classe alta\n",
    "fig.add_subplot(3,4,10)\n",
    "titanic_data_cleaned.Survived[(titanic_data_cleaned.Sex == \"male\") & \n",
    "                              (titanic_data_cleaned.Pclass == 1)].value_counts().plot(kind='bar', alpha=alpha_bar_chart)\n",
    "plt.title(u\"Homem de classe alta sobreviveu?\")\n",
    "\n",
    "# Mulher de classe baixa\n",
    "fig.add_subplot(3,4,11)\n",
    "titanic_data_cleaned.Survived[(titanic_data_cleaned.Sex == \"female\") & \n",
    "                              (titanic_data_cleaned.Pclass == 3)].value_counts().plot(kind='bar', color=\"pink\", alpha=alpha_bar_chart)\n",
    "plt.title(u\"Mulher de classe baixa sobreviveu?\")\n",
    "\n",
    "# Mulher de classe alta\n",
    "fig.add_subplot(3,4,12)\n",
    "titanic_data_cleaned.Survived[(titanic_data_cleaned.Sex == \"female\") & \n",
    "                              (titanic_data_cleaned.Pclass == 1)].value_counts().plot(kind='bar', color=female_color, alpha=alpha_bar_chart)\n",
    "plt.title(u\"Mulher de classe alta sobreviveu?\")\n",
    "\n",
    "plt.show()"
   ]
  },
  {
   "cell_type": "markdown",
   "metadata": {},
   "source": [
    "A distribuição dos passageiros anterior a tragédia mostra que a maioria dos homens e mulheres a bordo se encontravam na terceira classe, enquanto que na primeira e na segunda classe a divisão entre ambos os sexos eram relativamente parecidas e bem menor numericamente.\n",
    "\n",
    "A distribuição após a tragédia evidencia que homens e mulheres da primeira classe obtiveram um acesso maior aos botes pois a quantidade de sobrevivêntes foi maior em comparação com a segunda e a terceira classe, respondendo assim a primeira questão deste trabalho. \n",
    "\n",
    "De forma geral, os homens e mulheres de classe baixa tiveram menos possibilidade de sobrevivência com relação aos que estavam nas elites do navio, como evidenciado no segundo gráfico."
   ]
  },
  {
   "cell_type": "markdown",
   "metadata": {},
   "source": [
    "# 2ª questão: Há correlação direta entre sobrevivência e gênero?"
   ]
  },
  {
   "cell_type": "markdown",
   "metadata": {},
   "source": [
    "** Resumo do total de pessoas, sobreviventes e mortos**"
   ]
  },
  {
   "cell_type": "code",
   "execution_count": 34,
   "metadata": {
    "collapsed": false
   },
   "outputs": [
    {
     "name": "stdout",
     "output_type": "stream",
     "text": [
      "Homem: \n",
      "(577, 109, 468)\n",
      "\n",
      "Mulher: \n",
      "(314, 233, 81)\n",
      "\n",
      "Total geral: \n",
      "891\n"
     ]
    }
   ],
   "source": [
    "# Total, Sobreviventes e Mortos por gênero\n",
    "print(\"Homem: \")\n",
    "print(menData.count()['Sex'], menData[menData.Survived == 1].count()['Sex'], menData[menData.Survived == 0].count()['Sex'])\n",
    "print(\"\")\n",
    "\n",
    "print(\"Mulher: \")\n",
    "print(womenData.count()['Sex'], womenData[womenData.Survived == 1].count()['Sex'], womenData[womenData.Survived == 0].count()['Sex'])\n",
    "print(\"\")\n",
    "\n",
    "print(\"Total geral: \")\n",
    "print(titanic_data_cleaned.count()['Sex'])"
   ]
  },
  {
   "cell_type": "markdown",
   "metadata": {
    "collapsed": true
   },
   "source": [
    "O resumo acima será usado como base para uma análise de teste estatístico, como forma de validação dos resultados. Os seguintes parâmetros para as variáveis dependentes e independentes foram propostos:\n",
    "\n",
    ">_Variável independente:_ medição de condição relacional entre gênero e sobrevivência na tragédia do Titanic.\n",
    "\n",
    ">_Variável dependente:_ demonstração de correlação direta entre genêro e sobrevivência na tragédia do Titanic.\n",
    "\n",
    "Para o gênero e sobrevivência, usarei a função stats.chi2_contingency() do scipy para aplicar um teste Qui-Quadrado de independência para as duas variáveis da mesma população. O conjunto de hipóteses apropriado para essa tarefa seria; verificar Hipótese Nula para uma possível não correlação entre o fator sobrevivência e o sexo do indivíduo ou Hipótese Alternativa para correlação direta entre o fator sobrevivência e o sexo do indivíduo.\n",
    "\n",
    "Para o levantamento dos resultados as seguintes hipóteses foram propostas:\n",
    "\n",
    ">_Hipótese nula:_ não há diferença significativa entre gênero e sobrevivência, isto é, não há correlação entre o fator sobrevivência e o sexo do indivíduo.\n",
    "\n",
    ">_Hipótese Alternativa:_ há correlação direta entre o fator sobrevivência e o sexo do indivíduo."
   ]
  },
  {
   "cell_type": "code",
   "execution_count": 12,
   "metadata": {
    "collapsed": false
   },
   "outputs": [
    {
     "name": "stdout",
     "output_type": "stream",
     "text": [
      "[[109 468]\n",
      " [233  81]]\n"
     ]
    },
    {
     "data": {
      "text/plain": [
       "(260.71702016732104,\n",
       " 1.1973570627755645e-58,\n",
       " 1,\n",
       " array([[ 221.47474747,  355.52525253],\n",
       "        [ 120.52525253,  193.47474747]]))"
      ]
     },
     "execution_count": 12,
     "metadata": {},
     "output_type": "execute_result"
    }
   ],
   "source": [
    "import scipy as sp\n",
    "\n",
    "menSurvived = menData[menData.Survived == 1].count()['Sex']\n",
    "menDied = menData[menData.Survived == 0].count()['Sex']\n",
    "womenSurvived = womenData[womenData.Survived == 1].count()['Sex']\n",
    "womenDied = womenData[womenData.Survived == 0].count()['Sex']\n",
    "\n",
    "# Tabela para cálculo do qui-quadrado\n",
    "men_women_survival = np.array([[menSurvived, menDied],[womenSurvived, womenDied]])\n",
    "print(men_women_survival)\n",
    "\n",
    "# Qui-quadrado\n",
    "sp.stats.chi2_contingency(men_women_survival)"
   ]
  },
  {
   "cell_type": "markdown",
   "metadata": {
    "collapsed": true
   },
   "source": [
    "Assim temos\n",
    "\n",
    "> 1º valor - qui-quadrado: 260.71702016732104\n",
    "\n",
    "> 2º valor - p-value: 1.1973570627755645e-58\n",
    "\n",
    "> 3º valor - graus de liberdade: 1\n",
    "\n",
    "> 4º valor - frequências esperadas de célula por Hipótese nula:\n",
    "\n",
    "> Homem - Sobreviventes: 221.47474747 / Mortos: 355.52525253\n",
    "\n",
    "> Mulher - Sobreviventes: 120.52525253 / Mortos: 193.47474747\n"
   ]
  },
  {
   "cell_type": "markdown",
   "metadata": {
    "collapsed": true
   },
   "source": [
    "Para entender melhor os dados de saída do Scipy decidi gerar novos resultados através do site graphpad.com, analisando uma tabela de contingência 2x2.\n",
    "\n",
    "| Gênero | Sobreviventes | Mortos |\n",
    "| :----: | :-----------: | :----: |\n",
    "| _Homem_ | 109 | 468 |\n",
    "| _Mulher_ | 233 | 81 |\n",
    "\n",
    "Duas abordagens foram utilizadas, Teste exato de Fisher e Correção de Yates. É importante ressaltar que para a configuração de colunas e linhas para tabelas 2x2 o grau de liberdade é determinado pelo Número de Colunas (numéricas) - 1 vezes o Número de linhas (numéricas) - 1, ou seja, na tabela acima temos:\n",
    "\n",
    "> Colunas = 2 - 1 = 1\n",
    "\n",
    "> Linhas = 2 - 1 = 1\n",
    "\n",
    "> Colunas x Linhas = 1 x 1 = 1 (grau de liberdade)\n",
    "\n",
    "Uma tabela de contingência cruzada 2x2 apresenta as frequências de ocorrência de todas as combinações dos níveis de duas variáveis dicotômicas. O resultados encontrados entre ambas as abordagens se igualam ao resultado gerado pelo Scipy, com relação ao Qui-Quadrado 260.717 para o grau de liberdade 1 e o nível de significância 0.05, mas também gera um p-value para duas caudas menor do que 0.0001 e isto nos dá um resultado considerado extremamente significativo, indicando que há uma associação entre gênero e sobrevivência no naufrágio do navio.\n",
    "\n",
    "Sendo assim, podemos rejeitar a hipótese nula e aceitar a hipótese alternativa que diz que há correlação direta entre o fator sobrevivência e o sexo do indivíduo, respondendo a segunda questão proposta para o trabalho."
   ]
  },
  {
   "cell_type": "markdown",
   "metadata": {},
   "source": [
    "# 3ª questão: Mulheres e crianças primeiro?"
   ]
  },
  {
   "cell_type": "markdown",
   "metadata": {
    "collapsed": true
   },
   "source": [
    "Em uma entrevista dada para a revista eletrônica Hype Science em janeiro de 2012, Rob Ashdown, diretor de operações do Conselho de Cruzeiros Europeu, explica que após o embarque dos passageiros, eles são indicados para um bote salva vidas de acordo com sua cabine. Sugere também que “a ideia de mulheres e crianças primeiro é apenas uma convenção que existe por razões históricas. Pode ser apropriado em certas circunstâncias e culturas, mas não em todos os lugares.”\n",
    "\n",
    "De acordo com uma pesquisa rápida sobre o tema e também o artigo mencionado acima, não é via de regra mulheres e crianças terem prioridade no acesso aos botes de fuga em tragédias como a do Titanic. Então, primeiro, fui verificar a taxa percentual de sobrevivência por gênero para saber se as mulheres tiveram prioridade de acesso aos botes salva vidas com relação aos homens. E, segundo, se as crianças tiveram prioridade de acesso aos botes com relação aos adultos, estipulando faixas etárias por escalas de 13 em 13."
   ]
  },
  {
   "cell_type": "markdown",
   "metadata": {
    "collapsed": true
   },
   "source": [
    "**Percentual de sobrevivência por gênero de acordo com as classes**"
   ]
  },
  {
   "cell_type": "code",
   "execution_count": 12,
   "metadata": {
    "collapsed": false
   },
   "outputs": [
    {
     "data": {
      "text/plain": [
       "Pclass  Sex     Survived\n",
       "1       female  0           0.031915\n",
       "                1           0.968085\n",
       "        male    0           0.631148\n",
       "                1           0.368852\n",
       "2       female  0           0.078947\n",
       "                1           0.921053\n",
       "        male    0           0.842593\n",
       "                1           0.157407\n",
       "3       female  0           0.500000\n",
       "                1           0.500000\n",
       "        male    0           0.864553\n",
       "                1           0.135447\n",
       "dtype: float64"
      ]
     },
     "execution_count": 12,
     "metadata": {},
     "output_type": "execute_result"
    }
   ],
   "source": [
    "# Percentual de sobrevivência - (0) mortos / (1) sobreviventes\n",
    "titanic_grouped.unstack().div(titanic_data_cleaned.groupby(['Pclass', 'Sex']).size(), axis = 0).stack()"
   ]
  },
  {
   "cell_type": "markdown",
   "metadata": {},
   "source": [
    "A taxa percentual de sobrevivência foi cerca de 97% para as mulheres e 37% para os homens da primeira classe. Para a segunda classe as mulheres tiveram uma taxa de 92% enquanto que os homens, foi de apenas 16%. E por fim, a terceira classe apresentou uma taxa de 50% de sobrevivência para as mulheres e para os homens somente 13%.\n"
   ]
  },
  {
   "cell_type": "code",
   "execution_count": 11,
   "metadata": {
    "collapsed": false
   },
   "outputs": [
    {
     "data": {
      "text/plain": [
       "Pclass  Sex     Survived\n",
       "1       female  0             3\n",
       "                1            91\n",
       "        male    0            77\n",
       "                1            45\n",
       "2       female  0             6\n",
       "                1            70\n",
       "        male    0            91\n",
       "                1            17\n",
       "3       female  0            72\n",
       "                1            72\n",
       "        male    0           300\n",
       "                1            47\n",
       "dtype: int64"
      ]
     },
     "execution_count": 11,
     "metadata": {},
     "output_type": "execute_result"
    }
   ],
   "source": [
    "# Quantidade de passageiros agrupados por classe, sexo e sobrevivência\n",
    "titanic_grouped = titanic_data_cleaned.groupby(['Pclass', 'Sex', 'Survived']).size()\n",
    "titanic_grouped"
   ]
  },
  {
   "cell_type": "markdown",
   "metadata": {
    "collapsed": true
   },
   "source": [
    "As mulheres sobreviveram em quantidade muito superior aos homens, no geral, somando as três classes sociais são 233 mulheres para 109 homens, evidenciando a prioridade quanto ao acesso aos botes.\n",
    "\n",
    "Abaixo foi calculado a proporção de sobrevivência por faixa etária com foco no grupo de 0 à 13 anos."
   ]
  },
  {
   "cell_type": "markdown",
   "metadata": {},
   "source": [
    "**Probabilidade de sobrevivência de crianças com idade até 13 anos**\n",
    "\n",
    "Como visto anteriormente, o gênero feminino sobreviveu significativamente mais que o gênero masculino, mas agora é interessante verificar se além das mulheres, as crianças também exerceram, de fato, prioridade quanto ao acesso aos botes salva vidas. \n",
    "Decidi estipular a faixa de 0 à 13 anos para as crianças e dividir as outras faixas etárias no mesmo padrão de escala. \n",
    "\n",
    "Distribuir o total de pessoas por faixas etárias agrupadas de 13 em 13 anos e verificar a proporção de sobrevivência dos grupos foi a maneira mais interessante por mim encontrada, afim de saber as chances que os mais novos tiveram."
   ]
  },
  {
   "cell_type": "code",
   "execution_count": 17,
   "metadata": {
    "collapsed": false
   },
   "outputs": [
    {
     "data": {
      "text/plain": [
       "[0, 13, 26, 39, 52, 65, 78]"
      ]
     },
     "execution_count": 17,
     "metadata": {},
     "output_type": "execute_result"
    }
   ],
   "source": [
    "range(0, 81, 13)"
   ]
  },
  {
   "cell_type": "code",
   "execution_count": 9,
   "metadata": {
    "collapsed": false
   },
   "outputs": [
    {
     "data": {
      "image/png": "[encoded data removed]",
      "text/plain": [
       "<matplotlib.figure.Figure at 0x9626cf0>"
      ]
     },
     "metadata": {},
     "output_type": "display_data"
    }
   ],
   "source": [
    "titanic_data_cleaned['Age'] = pd.cut(titanic_data_cleaned.Age, range(0, 81, 13), right=False)\n",
    "titanic_data_cleaned.groupby(['Age']).size().plot(kind='barh',stacked=True)\n",
    "plt.title('Idade por grupos')\n",
    "plt.show()"
   ]
  },
  {
   "cell_type": "code",
   "execution_count": 10,
   "metadata": {
    "collapsed": false,
    "scrolled": false
   },
   "outputs": [
    {
     "name": "stdout",
     "output_type": "stream",
     "text": [
      "Age\n",
      "[0, 13)     0.579710\n",
      "[13, 26)    0.362069\n",
      "[26, 39)    0.423729\n",
      "[39, 52)    0.383333\n",
      "[52, 65)    0.413043\n",
      "[65, 78)    0.000000\n",
      "Name: Survived, dtype: float64\n"
     ]
    }
   ],
   "source": [
    "#Proporção de sobrevivência pelo fator grupo - idade\n",
    "print titanic_data_cleaned.groupby(['Age']).Survived.mean()\n",
    "plt.show()"
   ]
  },
  {
   "cell_type": "markdown",
   "metadata": {
    "collapsed": true
   },
   "source": [
    "Pelo fator de sobrevivência dividido por faixa etária, o grupo de 0 à 13 anos possui uma proporção de sobrevida superior aos demais grupos."
   ]
  },
  {
   "cell_type": "markdown",
   "metadata": {},
   "source": [
    "Assim como foi confirmado que as mulheres tiveram privilégio quanto ao acesso aos botes salva vidas, as crianças também usufruíram da mesma vantagem. As três questões propostas foram respondidas com êxito dentro da capacidade de análise (que ainda é muito superficial) e habilidade do uso da ferramenta IPython apresentada pelo autor, cabendo análises mais detalhadas e questões mais aprofundadas futuramente.\n",
    "\n",
    "**Métodos e questões futuras**\n",
    "\n",
    "Algumas técnicas e ferramentas de aprendizado de máquina são bem comuns no processo de reconhecimento de um banco de dados e, consequentemente, no auxílio na tomada de decisões. Futuramente, a utilização da Árvore de Decisão poderia ser um método para uma abordagem mais ampla, assim como modelagem preditiva através de algoritmo como Random Forest, matriz de confusão e estratégias de validação cruzada para maior confiabilidade dos resultados. \n",
    "\n",
    "Algumas questões trariam um entendimento maior quanto as variáveis envolvidas em meio a tão famosa tragédia que foi o naufrágio do Titanic, questões como;\n",
    "\n",
    "* Mulheres com crianças (filhos ou acompanhantes) teriam uma taxa de sobrevivência melhor vs mulheres sem crianças?\n",
    "\n",
    "* Quais seriam as taxa de sobrevivência em diferentes plataformas do navio?\n",
    "\n",
    "* Qual a previsão de que todos os passageiros do sexo feminino e masculino com menos de 10 anos sobreviveram?"
   ]
  },
  {
   "cell_type": "markdown",
   "metadata": {},
   "source": [
    "# Conclusão"
   ]
  },
  {
   "cell_type": "markdown",
   "metadata": {},
   "source": [
    "Fatores limitantes como a falta de valores em algumas colunas geram um certo desconforto quanto a acuracidade das análises de forma global.\n",
    "A ausência de equívocos e erros, de certa forma é inevitável, visto que este trabalho se trata de uma introdução para uma área estatística bem mais abrangente.\n",
    "\n",
    "As principais conclusões desta análise são as seguintes:\n",
    "\n",
    "• _A taxa de sobrevivência da primeira classe foi superior com relação a segunda e a terceira classe?_\n",
    "\n",
    "Sim, através da visualização gráfica do antes e o depois do acidente, fica claro que homens e mulheres da primeira classe obtiveram acesso maior aos botes pois a quantidade de sobreviventes foi maior em comparação com a segunda e a terceira classe, respondendo assim a primeira questão deste trabalho.\n",
    "\n",
    "• _Há correlação direta entre sobrevivência e gênero?_\n",
    "\n",
    "Sim, de acordo com o teste estatístico realizado a hipótese nula foi rejeitada e a hipótese alternativa, que diz que há correlação direta entre o fator sobrevivência e o sexo do indivíduo, foi aceita.\n",
    "\n",
    "• _Mulheres e crianças primeiro?_\n",
    "\n",
    "Sim, em comparação com os homens, as mulheres tiveram uma taxa de sobrevivência bem superior no geral e também entre os gêneros dentro das três classes sociais e de acordo com as faixas etárias, o grupo de 0 à 13 anos de idade obtiveram os maiores índices de sobrevivência independentemente do sexo ou classe social."
   ]
  },
  {
   "cell_type": "code",
   "execution_count": 17,
   "metadata": {
    "collapsed": false
   },
   "outputs": [
    {
     "data": {
      "text/html": [
       "<img src=\"https://s3-us-west-2.amazonaws.com/dglunz/yes_rose.gif\"/>"
      ],
      "text/plain": [
       "<IPython.core.display.Image object>"
      ]
     },
     "execution_count": 17,
     "metadata": {},
     "output_type": "execute_result"
    }
   ],
   "source": [
    "from IPython.display import Image\n",
    "Image(url=\"https://s3-us-west-2.amazonaws.com/dglunz/yes_rose.gif\")"
   ]
  },
  {
   "cell_type": "markdown",
   "metadata": {},
   "source": [
    "# Referências Bibliográficas"
   ]
  },
  {
   "cell_type": "markdown",
   "metadata": {
    "collapsed": true
   },
   "source": [
    "ARKHAM. Repository. Disponível em: <https://github.com/Arkham/jack-dies/blob/master/visualize_gender.py> Acesso em: 04 mai. 2017.\n",
    "\n",
    "Gif animado Yes Rose. Disponível em: <https://s3-us-west-2.amazonaws.com/dglunz/yes_rose.gif> Acesso em: 10 abr. 2017.\n",
    "\n",
    "Imagem do Titanic. Disponível em: <http://guiadoscuriosos.uol.com.br/blog/wp-content/uploads/2012/04/titanic-olympic1.jpg> Acesso em: 20 mar. 2017.\n",
    "\n",
    "JASONICARTER. TitanicData.ipynb. Github. Disponível em: <https://github.com/jasonicarter/DAND_Titanic_Data_Analysis/blob/master/TitanicData.ipynb> Acesso em: 24 mar. 2017.\n",
    "\n",
    "NGLGZZ. Investigate a Dataset : Titanic. Github. Disponível em: <https://github.com/nglgzz/titanic/blob/master/titanic.ipynb> Acesso em: 23 mar. 2017.\n",
    "\n",
    "QuickCalcs. Analyze a 2x2 contingency table, Graphpad.com. Disponível em: <https://graphpad.com/quickcalcs/contingency1.cfm> Acesso em: 27 mar. 2017.\n",
    "\n",
    "SDIEPEND. Investigate A Dataset - Titanic.ipynb. Github. Disponível em: <https://github.com/sdiepend/Udacity-DAND/blob/master/P2%20-%20Investigate%20a%20Dataset/Investigate%20A%20Dataset%20-%20Titanic.ipynb> Acesso em: 23 mar. 2017.\n",
    "\n",
    "SDPENALOZA. Project 2 - Titanic Data. Disponível em: <https://nbviewer.jupyter.org/github/CtheDataIO-sdpenaloza/P2-Investigate-a-Dataset-Udacity/blob/master/Project_2_-_Titanic_Data_Rev3.pdf> Acesso em: 23 mar. 2017.\n",
    "\n",
    "STAUT, Bernardo. Artigo: Mulheres e crianças primeiro são realmente regras marítimas?. Hype Science, Revista Eletrônica, 2012. Disponível em: <http://hypescience.com/mulheres-e-criancas-primeiro-costa-concordia-e-as-leis-para-evacuar-um-navio/> Acesso em: 22 mar. 2017.\n",
    "\n",
    "TSUZUKITOMOAKI. Titanic_Survival_Exploration.ipynb. Github. Disponível em: <https://github.com/tsuzukit/ml-nanodegree-titanic/blob/master/Titanic_Survival_Exploration.ipynb> Acesso em: 23 mar. 2017."
   ]
  },
  {
   "cell_type": "code",
   "execution_count": null,
   "metadata": {
    "collapsed": true
   },
   "outputs": [],
   "source": []
  }
 ],
 "metadata": {
  "anaconda-cloud": {},
  "kernelspec": {
   "display_name": "Python [conda root]",
   "language": "python",
   "name": "conda-root-py"
  },
  "language_info": {
   "codemirror_mode": {
    "name": "ipython",
    "version": 2
   },
   "file_extension": ".py",
   "mimetype": "text/x-python",
   "name": "python",
   "nbconvert_exporter": "python",
   "pygments_lexer": "ipython2",
   "version": "2.7.12"
  }
 },
 "nbformat": 4,
 "nbformat_minor": 1
}
